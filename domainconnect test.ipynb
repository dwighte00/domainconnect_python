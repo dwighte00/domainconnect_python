{
 "cells": [
  {
   "cell_type": "markdown",
   "metadata": {},
   "source": [
    "### Imports"
   ]
  },
  {
   "cell_type": "code",
   "execution_count": 1,
   "metadata": {},
   "outputs": [],
   "source": [
    "# Imports\n",
    "from domainconnect import *"
   ]
  },
  {
   "cell_type": "code",
   "execution_count": 2,
   "metadata": {},
   "outputs": [],
   "source": [
    "dc = DomainConnect()"
   ]
  },
  {
   "cell_type": "code",
   "execution_count": 35,
   "metadata": {},
   "outputs": [],
   "source": [
    "DOMAINS = ['weathernyc.nyc', 'double-glazing-repair.co.uk', 'lossieentertainmentacademy.co.uk', 'whitfieldsurveyors.co.uk', \n",
    "           'landscapernorwich.co.uk']\n",
    "DOMAINS = [DOMAINS[2]]"
   ]
  },
  {
   "cell_type": "code",
   "execution_count": 36,
   "metadata": {},
   "outputs": [
    {
     "data": {
      "text/plain": [
       "['lossieentertainmentacademy.co.uk']"
      ]
     },
     "execution_count": 36,
     "metadata": {},
     "output_type": "execute_result"
    }
   ],
   "source": [
    "DOMAINS"
   ]
  },
  {
   "cell_type": "code",
   "execution_count": 37,
   "metadata": {
    "scrolled": true
   },
   "outputs": [
    {
     "name": "stdout",
     "output_type": "stream",
     "text": [
      "Domain: lossieentertainmentacademy.co.uk\n",
      "Exception: No nameservers avalaible for \"lossieentertainmentacademy.co.uk\"\n"
     ]
    },
    {
     "ename": "NoDomainConnectRecordException",
     "evalue": "No nameservers avalaible for \"lossieentertainmentacademy.co.uk\"",
     "output_type": "error",
     "traceback": [
      "\u001b[1;31m---------------------------------------------------------------------------\u001b[0m",
      "\u001b[1;31mNoNameservers\u001b[0m                             Traceback (most recent call last)",
      "\u001b[1;32m~\\Onedrive - Hibu\\Documents\\Tech\\domainconnect_python\\domainconnect\\domainconnect.py\u001b[0m in \u001b[0;36m_identify_domain_connect_api\u001b[1;34m(self, domain_root)\u001b[0m\n\u001b[0;32m    199\u001b[0m         \u001b[1;32mtry\u001b[0m\u001b[1;33m:\u001b[0m\u001b[1;33m\u001b[0m\u001b[1;33m\u001b[0m\u001b[0m\n\u001b[1;32m--> 200\u001b[1;33m             \u001b[0mdns\u001b[0m \u001b[1;33m=\u001b[0m \u001b[0mself\u001b[0m\u001b[1;33m.\u001b[0m\u001b[0m_resolver\u001b[0m\u001b[1;33m.\u001b[0m\u001b[0mquery\u001b[0m\u001b[1;33m(\u001b[0m\u001b[1;34m'_domainconnect.{}'\u001b[0m\u001b[1;33m.\u001b[0m\u001b[0mformat\u001b[0m\u001b[1;33m(\u001b[0m\u001b[0mdomain_root\u001b[0m\u001b[1;33m)\u001b[0m\u001b[1;33m,\u001b[0m \u001b[1;34m'TXT'\u001b[0m\u001b[1;33m)\u001b[0m\u001b[1;33m\u001b[0m\u001b[1;33m\u001b[0m\u001b[0m\n\u001b[0m\u001b[0;32m    201\u001b[0m             \u001b[0mdomain_connect_api\u001b[0m \u001b[1;33m=\u001b[0m \u001b[0mstr\u001b[0m\u001b[1;33m(\u001b[0m\u001b[0mdns\u001b[0m\u001b[1;33m[\u001b[0m\u001b[1;36m0\u001b[0m\u001b[1;33m]\u001b[0m\u001b[1;33m)\u001b[0m\u001b[1;33m.\u001b[0m\u001b[0mreplace\u001b[0m\u001b[1;33m(\u001b[0m\u001b[1;34m'\"'\u001b[0m\u001b[1;33m,\u001b[0m \u001b[1;34m''\u001b[0m\u001b[1;33m)\u001b[0m\u001b[1;33m\u001b[0m\u001b[1;33m\u001b[0m\u001b[0m\n",
      "\u001b[1;32m~\\AppData\\Local\\Continuum\\miniconda3\\envs\\domainconnect_python\\lib\\site-packages\\dns\\resolver.py\u001b[0m in \u001b[0;36mquery\u001b[1;34m(self, qname, rdtype, rdclass, tcp, source, raise_on_no_answer, source_port)\u001b[0m\n\u001b[0;32m    946\u001b[0m                 \u001b[1;32mif\u001b[0m \u001b[0mlen\u001b[0m\u001b[1;33m(\u001b[0m\u001b[0mnameservers\u001b[0m\u001b[1;33m)\u001b[0m \u001b[1;33m==\u001b[0m \u001b[1;36m0\u001b[0m\u001b[1;33m:\u001b[0m\u001b[1;33m\u001b[0m\u001b[1;33m\u001b[0m\u001b[0m\n\u001b[1;32m--> 947\u001b[1;33m                     \u001b[1;32mraise\u001b[0m \u001b[0mNoNameservers\u001b[0m\u001b[1;33m(\u001b[0m\u001b[0mrequest\u001b[0m\u001b[1;33m=\u001b[0m\u001b[0mrequest\u001b[0m\u001b[1;33m,\u001b[0m \u001b[0merrors\u001b[0m\u001b[1;33m=\u001b[0m\u001b[0merrors\u001b[0m\u001b[1;33m)\u001b[0m\u001b[1;33m\u001b[0m\u001b[1;33m\u001b[0m\u001b[0m\n\u001b[0m\u001b[0;32m    948\u001b[0m                 \u001b[1;32mfor\u001b[0m \u001b[0mnameserver\u001b[0m \u001b[1;32min\u001b[0m \u001b[0mnameservers\u001b[0m\u001b[1;33m[\u001b[0m\u001b[1;33m:\u001b[0m\u001b[1;33m]\u001b[0m\u001b[1;33m:\u001b[0m\u001b[1;33m\u001b[0m\u001b[1;33m\u001b[0m\u001b[0m\n",
      "\u001b[1;31mNoNameservers\u001b[0m: All nameservers failed to answer the query _domainconnect.lossieentertainmentacademy.co.uk.prod-lon.moonfruit.net. IN TXT: Server 8.8.8.8 UDP port 53 answered SERVFAIL",
      "\nDuring handling of the above exception, another exception occurred:\n",
      "\u001b[1;31mNoDomainConnectRecordException\u001b[0m            Traceback (most recent call last)",
      "\u001b[1;32m<ipython-input-37-9c8cbd62a468>\u001b[0m in \u001b[0;36m<module>\u001b[1;34m\u001b[0m\n\u001b[0;32m      8\u001b[0m                                                       params={\"IP\": \"132.148.25.185\",\n\u001b[0;32m      9\u001b[0m                                                               \"RANDOMTEXT\": \"shm:1531371203:Hello world sync\"},\n\u001b[1;32m---> 10\u001b[1;33m                                                       redirect_uri=\"http://example.com\", state=\"{name=value}\")\n\u001b[0m\u001b[0;32m     11\u001b[0m         \u001b[0mprint\u001b[0m\u001b[1;33m(\u001b[0m\u001b[0mres\u001b[0m\u001b[1;33m)\u001b[0m\u001b[1;33m\u001b[0m\u001b[1;33m\u001b[0m\u001b[0m\n\u001b[0;32m     12\u001b[0m     \u001b[1;32mexcept\u001b[0m \u001b[0mDomainConnectException\u001b[0m \u001b[1;32mas\u001b[0m \u001b[0me\u001b[0m\u001b[1;33m:\u001b[0m\u001b[1;33m\u001b[0m\u001b[1;33m\u001b[0m\u001b[0m\n",
      "\u001b[1;32m~\\Onedrive - Hibu\\Documents\\Tech\\domainconnect_python\\domainconnect\\domainconnect.py\u001b[0m in \u001b[0;36mget_domain_connect_template_sync_url\u001b[1;34m(self, domain, provider_id, service_id, redirect_uri, params, state, group_ids, sign, private_key, keyid)\u001b[0m\n\u001b[0;32m    352\u001b[0m             \u001b[0mparams\u001b[0m \u001b[1;33m=\u001b[0m \u001b[1;33m{\u001b[0m\u001b[1;33m}\u001b[0m\u001b[1;33m\u001b[0m\u001b[1;33m\u001b[0m\u001b[0m\n\u001b[0;32m    353\u001b[0m \u001b[1;33m\u001b[0m\u001b[0m\n\u001b[1;32m--> 354\u001b[1;33m         \u001b[0mconfig\u001b[0m \u001b[1;33m=\u001b[0m \u001b[0mself\u001b[0m\u001b[1;33m.\u001b[0m\u001b[0mget_domain_config\u001b[0m\u001b[1;33m(\u001b[0m\u001b[0mdomain\u001b[0m\u001b[1;33m)\u001b[0m\u001b[1;33m\u001b[0m\u001b[1;33m\u001b[0m\u001b[0m\n\u001b[0m\u001b[0;32m    355\u001b[0m \u001b[1;33m\u001b[0m\u001b[0m\n\u001b[0;32m    356\u001b[0m         \u001b[0mself\u001b[0m\u001b[1;33m.\u001b[0m\u001b[0mcheck_template_supported\u001b[0m\u001b[1;33m(\u001b[0m\u001b[0mconfig\u001b[0m\u001b[1;33m,\u001b[0m \u001b[0mprovider_id\u001b[0m\u001b[1;33m,\u001b[0m \u001b[0mservice_id\u001b[0m\u001b[1;33m)\u001b[0m\u001b[1;33m\u001b[0m\u001b[1;33m\u001b[0m\u001b[0m\n",
      "\u001b[1;32m~\\Onedrive - Hibu\\Documents\\Tech\\domainconnect_python\\domainconnect\\domainconnect.py\u001b[0m in \u001b[0;36mget_domain_config\u001b[1;34m(self, domain)\u001b[0m\n\u001b[0;32m    238\u001b[0m             \u001b[0mhost\u001b[0m \u001b[1;33m=\u001b[0m \u001b[0mdomain\u001b[0m\u001b[1;33m.\u001b[0m\u001b[0mreplace\u001b[0m\u001b[1;33m(\u001b[0m\u001b[1;34m'.'\u001b[0m \u001b[1;33m+\u001b[0m \u001b[0mdomain_root\u001b[0m\u001b[1;33m,\u001b[0m \u001b[1;34m''\u001b[0m\u001b[1;33m)\u001b[0m\u001b[1;33m\u001b[0m\u001b[1;33m\u001b[0m\u001b[0m\n\u001b[0;32m    239\u001b[0m \u001b[1;33m\u001b[0m\u001b[0m\n\u001b[1;32m--> 240\u001b[1;33m         \u001b[0mdomain_connect_api\u001b[0m \u001b[1;33m=\u001b[0m \u001b[0mself\u001b[0m\u001b[1;33m.\u001b[0m\u001b[0m_identify_domain_connect_api\u001b[0m\u001b[1;33m(\u001b[0m\u001b[0mdomain_root\u001b[0m\u001b[1;33m)\u001b[0m\u001b[1;33m\u001b[0m\u001b[1;33m\u001b[0m\u001b[0m\n\u001b[0m\u001b[0;32m    241\u001b[0m \u001b[1;33m\u001b[0m\u001b[0m\n\u001b[0;32m    242\u001b[0m         \u001b[0mret\u001b[0m \u001b[1;33m=\u001b[0m \u001b[0mself\u001b[0m\u001b[1;33m.\u001b[0m\u001b[0m_get_domain_config_for_root\u001b[0m\u001b[1;33m(\u001b[0m\u001b[0mdomain_root\u001b[0m\u001b[1;33m,\u001b[0m \u001b[0mdomain_connect_api\u001b[0m\u001b[1;33m)\u001b[0m\u001b[1;33m\u001b[0m\u001b[1;33m\u001b[0m\u001b[0m\n",
      "\u001b[1;32m~\\Onedrive - Hibu\\Documents\\Tech\\domainconnect_python\\domainconnect\\domainconnect.py\u001b[0m in \u001b[0;36m_identify_domain_connect_api\u001b[1;34m(self, domain_root)\u001b[0m\n\u001b[0;32m    214\u001b[0m         \u001b[1;32mexcept\u001b[0m \u001b[0mNoNameservers\u001b[0m\u001b[1;33m:\u001b[0m\u001b[1;33m\u001b[0m\u001b[1;33m\u001b[0m\u001b[0m\n\u001b[0;32m    215\u001b[0m             \u001b[0mlogger\u001b[0m\u001b[1;33m.\u001b[0m\u001b[0mdebug\u001b[0m\u001b[1;33m(\u001b[0m\u001b[1;34m'No nameservers avalaible for \"{}\"'\u001b[0m\u001b[1;33m.\u001b[0m\u001b[0mformat\u001b[0m\u001b[1;33m(\u001b[0m\u001b[0mdomain_root\u001b[0m\u001b[1;33m)\u001b[0m\u001b[1;33m)\u001b[0m\u001b[1;33m\u001b[0m\u001b[1;33m\u001b[0m\u001b[0m\n\u001b[1;32m--> 216\u001b[1;33m             \u001b[1;32mraise\u001b[0m \u001b[0mNoDomainConnectRecordException\u001b[0m\u001b[1;33m(\u001b[0m\u001b[1;34m'No nameservers avalaible for \"{}\"'\u001b[0m\u001b[1;33m.\u001b[0m\u001b[0mformat\u001b[0m\u001b[1;33m(\u001b[0m\u001b[0mdomain_root\u001b[0m\u001b[1;33m)\u001b[0m\u001b[1;33m)\u001b[0m\u001b[1;33m\u001b[0m\u001b[1;33m\u001b[0m\u001b[0m\n\u001b[0m\u001b[0;32m    217\u001b[0m         \u001b[1;32mexcept\u001b[0m \u001b[0mException\u001b[0m\u001b[1;33m:\u001b[0m\u001b[1;33m\u001b[0m\u001b[1;33m\u001b[0m\u001b[0m\n\u001b[0;32m    218\u001b[0m             \u001b[1;32mpass\u001b[0m\u001b[1;33m\u001b[0m\u001b[1;33m\u001b[0m\u001b[0m\n",
      "\u001b[1;31mNoDomainConnectRecordException\u001b[0m: No nameservers avalaible for \"lossieentertainmentacademy.co.uk\""
     ]
    }
   ],
   "source": [
    "for domain in DOMAINS:\n",
    "    print(f'Domain: {domain}')\n",
    "    try:\n",
    "        # change 'connect.domains' to any domain you have access to\n",
    "        res = dc.get_domain_connect_template_sync_url(domain=domain, \n",
    "                                                      provider_id='exampleservice.domainconnect.org', \n",
    "                                                      service_id='template1', \n",
    "                                                      params={\"IP\": \"132.148.25.185\",\n",
    "                                                              \"RANDOMTEXT\": \"shm:1531371203:Hello world sync\"},\n",
    "                                                      redirect_uri=\"http://example.com\", state=\"{name=value}\")\n",
    "        print(res)\n",
    "    except DomainConnectException as e:\n",
    "        print('Exception: {}'.format(e))\n",
    "        raise    "
   ]
  },
  {
   "cell_type": "code",
   "execution_count": 4,
   "metadata": {},
   "outputs": [],
   "source": [
    "from dns.exception import Timeout\n",
    "from dns.resolver import Resolver, NXDOMAIN, YXDOMAIN, NoAnswer, NoNameservers"
   ]
  },
  {
   "cell_type": "code",
   "execution_count": null,
   "metadata": {},
   "outputs": [],
   "source": []
  },
  {
   "cell_type": "code",
   "execution_count": 45,
   "metadata": {},
   "outputs": [
    {
     "name": "stdout",
     "output_type": "stream",
     "text": [
      "landscapernorwich.co.uk\n"
     ]
    }
   ],
   "source": [
    "DOMAIN = 'landscapernorwich.co.uk'\n",
    "#dc._resolver.nameservers = ['192.168.43.1', '10.1.3.1', '10.1.253.47', '194.168.4.100', '194.168.8.100']\n",
    "dc._resolver.nameservers = ['208.67.222.222', '208.67.220.220', '8.8.8.8', '8.8.4.4', '1.1.1.1', '1.0.0.1']\n",
    "domain_root = dc.identify_domain_root(DOMAIN)\n",
    "print(domain_root)"
   ]
  },
  {
   "cell_type": "code",
   "execution_count": 46,
   "metadata": {},
   "outputs": [
    {
     "data": {
      "text/plain": [
       "'_domainconnect.landscapernorwich.co.uk'"
      ]
     },
     "execution_count": 46,
     "metadata": {},
     "output_type": "execute_result"
    }
   ],
   "source": [
    "'_domainconnect.{}'.format(domain_root)"
   ]
  },
  {
   "cell_type": "code",
   "execution_count": 47,
   "metadata": {},
   "outputs": [
    {
     "name": "stdout",
     "output_type": "stream",
     "text": [
      "\n",
      "; <<>> DiG 9.12.2 <<>> @8.8.8.8 _domainconnect.landscapernorwich.co.uk TXT\n",
      "; (1 server found)\n",
      ";; global options: +cmd\n",
      ";; Got answer:\n",
      ";; ->>HEADER<<- opcode: QUERY, status: NXDOMAIN, id: 1039\n",
      ";; flags: qr rd ra; QUERY: 1, ANSWER: 0, AUTHORITY: 1, ADDITIONAL: 1\n",
      "\n",
      ";; OPT PSEUDOSECTION:\n",
      "; EDNS: version: 0, flags:; udp: 512\n",
      ";; QUESTION SECTION:\n",
      ";_domainconnect.landscapernorwich.co.uk.\tIN TXT\n",
      "\n",
      ";; AUTHORITY SECTION:\n",
      "landscapernorwich.co.uk. 1799\tIN\tSOA\tns1.namecity.com. hostmaster.namecity.com. 2018051400 43200 1800 2419200 3600\n",
      "\n",
      ";; Query time: 177 msec\n",
      ";; SERVER: 8.8.8.8#53(8.8.8.8)\n",
      ";; WHEN: Thu Apr 04 20:55:06 GMT Daylight Time 2019\n",
      ";; MSG SIZE  rcvd: 130\n",
      "\n"
     ]
    }
   ],
   "source": [
    "!dig @8.8.8.8 _domainconnect.landscapernorwich.co.uk TXT"
   ]
  },
  {
   "cell_type": "code",
   "execution_count": 48,
   "metadata": {},
   "outputs": [
    {
     "ename": "NoAnswer",
     "evalue": "The DNS response does not contain an answer to the question: landscapernorwich.co.uk. IN TXT",
     "output_type": "error",
     "traceback": [
      "\u001b[1;31m---------------------------------------------------------------------------\u001b[0m",
      "\u001b[1;31mKeyError\u001b[0m                                  Traceback (most recent call last)",
      "\u001b[1;32m~\\AppData\\Local\\Continuum\\miniconda3\\envs\\domainconnect_python\\lib\\site-packages\\dns\\resolver.py\u001b[0m in \u001b[0;36m__init__\u001b[1;34m(self, qname, rdtype, rdclass, response, raise_on_no_answer)\u001b[0m\n\u001b[0;32m    214\u001b[0m                 rrset = response.find_rrset(response.answer, qname,\n\u001b[1;32m--> 215\u001b[1;33m                                             rdclass, rdtype)\n\u001b[0m\u001b[0;32m    216\u001b[0m                 \u001b[1;32mif\u001b[0m \u001b[0mmin_ttl\u001b[0m \u001b[1;33m==\u001b[0m \u001b[1;33m-\u001b[0m\u001b[1;36m1\u001b[0m \u001b[1;32mor\u001b[0m \u001b[0mrrset\u001b[0m\u001b[1;33m.\u001b[0m\u001b[0mttl\u001b[0m \u001b[1;33m<\u001b[0m \u001b[0mmin_ttl\u001b[0m\u001b[1;33m:\u001b[0m\u001b[1;33m\u001b[0m\u001b[1;33m\u001b[0m\u001b[0m\n",
      "\u001b[1;32m~\\AppData\\Local\\Continuum\\miniconda3\\envs\\domainconnect_python\\lib\\site-packages\\dns\\message.py\u001b[0m in \u001b[0;36mfind_rrset\u001b[1;34m(self, section, name, rdclass, rdtype, covers, deleting, create, force_unique)\u001b[0m\n\u001b[0;32m    351\u001b[0m         \u001b[1;32mif\u001b[0m \u001b[1;32mnot\u001b[0m \u001b[0mcreate\u001b[0m\u001b[1;33m:\u001b[0m\u001b[1;33m\u001b[0m\u001b[1;33m\u001b[0m\u001b[0m\n\u001b[1;32m--> 352\u001b[1;33m             \u001b[1;32mraise\u001b[0m \u001b[0mKeyError\u001b[0m\u001b[1;33m\u001b[0m\u001b[1;33m\u001b[0m\u001b[0m\n\u001b[0m\u001b[0;32m    353\u001b[0m         \u001b[0mrrset\u001b[0m \u001b[1;33m=\u001b[0m \u001b[0mdns\u001b[0m\u001b[1;33m.\u001b[0m\u001b[0mrrset\u001b[0m\u001b[1;33m.\u001b[0m\u001b[0mRRset\u001b[0m\u001b[1;33m(\u001b[0m\u001b[0mname\u001b[0m\u001b[1;33m,\u001b[0m \u001b[0mrdclass\u001b[0m\u001b[1;33m,\u001b[0m \u001b[0mrdtype\u001b[0m\u001b[1;33m,\u001b[0m \u001b[0mcovers\u001b[0m\u001b[1;33m,\u001b[0m \u001b[0mdeleting\u001b[0m\u001b[1;33m)\u001b[0m\u001b[1;33m\u001b[0m\u001b[1;33m\u001b[0m\u001b[0m\n",
      "\u001b[1;31mKeyError\u001b[0m: ",
      "\nDuring handling of the above exception, another exception occurred:\n",
      "\u001b[1;31mKeyError\u001b[0m                                  Traceback (most recent call last)",
      "\u001b[1;32m~\\AppData\\Local\\Continuum\\miniconda3\\envs\\domainconnect_python\\lib\\site-packages\\dns\\resolver.py\u001b[0m in \u001b[0;36m__init__\u001b[1;34m(self, qname, rdtype, rdclass, response, raise_on_no_answer)\u001b[0m\n\u001b[0;32m    224\u001b[0m                                                      \u001b[0mrdclass\u001b[0m\u001b[1;33m,\u001b[0m\u001b[1;33m\u001b[0m\u001b[1;33m\u001b[0m\u001b[0m\n\u001b[1;32m--> 225\u001b[1;33m                                                      dns.rdatatype.CNAME)\n\u001b[0m\u001b[0;32m    226\u001b[0m                         \u001b[1;32mif\u001b[0m \u001b[0mmin_ttl\u001b[0m \u001b[1;33m==\u001b[0m \u001b[1;33m-\u001b[0m\u001b[1;36m1\u001b[0m \u001b[1;32mor\u001b[0m \u001b[0mcrrset\u001b[0m\u001b[1;33m.\u001b[0m\u001b[0mttl\u001b[0m \u001b[1;33m<\u001b[0m \u001b[0mmin_ttl\u001b[0m\u001b[1;33m:\u001b[0m\u001b[1;33m\u001b[0m\u001b[1;33m\u001b[0m\u001b[0m\n",
      "\u001b[1;32m~\\AppData\\Local\\Continuum\\miniconda3\\envs\\domainconnect_python\\lib\\site-packages\\dns\\message.py\u001b[0m in \u001b[0;36mfind_rrset\u001b[1;34m(self, section, name, rdclass, rdtype, covers, deleting, create, force_unique)\u001b[0m\n\u001b[0;32m    351\u001b[0m         \u001b[1;32mif\u001b[0m \u001b[1;32mnot\u001b[0m \u001b[0mcreate\u001b[0m\u001b[1;33m:\u001b[0m\u001b[1;33m\u001b[0m\u001b[1;33m\u001b[0m\u001b[0m\n\u001b[1;32m--> 352\u001b[1;33m             \u001b[1;32mraise\u001b[0m \u001b[0mKeyError\u001b[0m\u001b[1;33m\u001b[0m\u001b[1;33m\u001b[0m\u001b[0m\n\u001b[0m\u001b[0;32m    353\u001b[0m         \u001b[0mrrset\u001b[0m \u001b[1;33m=\u001b[0m \u001b[0mdns\u001b[0m\u001b[1;33m.\u001b[0m\u001b[0mrrset\u001b[0m\u001b[1;33m.\u001b[0m\u001b[0mRRset\u001b[0m\u001b[1;33m(\u001b[0m\u001b[0mname\u001b[0m\u001b[1;33m,\u001b[0m \u001b[0mrdclass\u001b[0m\u001b[1;33m,\u001b[0m \u001b[0mrdtype\u001b[0m\u001b[1;33m,\u001b[0m \u001b[0mcovers\u001b[0m\u001b[1;33m,\u001b[0m \u001b[0mdeleting\u001b[0m\u001b[1;33m)\u001b[0m\u001b[1;33m\u001b[0m\u001b[1;33m\u001b[0m\u001b[0m\n",
      "\u001b[1;31mKeyError\u001b[0m: ",
      "\nDuring handling of the above exception, another exception occurred:\n",
      "\u001b[1;31mNoAnswer\u001b[0m                                  Traceback (most recent call last)",
      "\u001b[1;32m<ipython-input-48-9e1e77761d56>\u001b[0m in \u001b[0;36m<module>\u001b[1;34m\u001b[0m\n\u001b[1;32m----> 1\u001b[1;33m \u001b[0mdc\u001b[0m\u001b[1;33m.\u001b[0m\u001b[0m_resolver\u001b[0m\u001b[1;33m.\u001b[0m\u001b[0mquery\u001b[0m\u001b[1;33m(\u001b[0m\u001b[0mdomain_root\u001b[0m\u001b[1;33m,\u001b[0m \u001b[1;34m'TXT'\u001b[0m\u001b[1;33m)\u001b[0m\u001b[1;33m\u001b[0m\u001b[1;33m\u001b[0m\u001b[0m\n\u001b[0m",
      "\u001b[1;32m~\\AppData\\Local\\Continuum\\miniconda3\\envs\\domainconnect_python\\lib\\site-packages\\dns\\resolver.py\u001b[0m in \u001b[0;36mquery\u001b[1;34m(self, qname, rdtype, rdclass, tcp, source, raise_on_no_answer, source_port)\u001b[0m\n\u001b[0;32m   1051\u001b[0m             \u001b[1;32mraise\u001b[0m \u001b[0mNXDOMAIN\u001b[0m\u001b[1;33m(\u001b[0m\u001b[0mqnames\u001b[0m\u001b[1;33m=\u001b[0m\u001b[0mqnames_to_try\u001b[0m\u001b[1;33m,\u001b[0m \u001b[0mresponses\u001b[0m\u001b[1;33m=\u001b[0m\u001b[0mnxdomain_responses\u001b[0m\u001b[1;33m)\u001b[0m\u001b[1;33m\u001b[0m\u001b[1;33m\u001b[0m\u001b[0m\n\u001b[0;32m   1052\u001b[0m         answer = Answer(_qname, rdtype, rdclass, response,\n\u001b[1;32m-> 1053\u001b[1;33m                         raise_on_no_answer)\n\u001b[0m\u001b[0;32m   1054\u001b[0m         \u001b[1;32mif\u001b[0m \u001b[0mself\u001b[0m\u001b[1;33m.\u001b[0m\u001b[0mcache\u001b[0m\u001b[1;33m:\u001b[0m\u001b[1;33m\u001b[0m\u001b[1;33m\u001b[0m\u001b[0m\n\u001b[0;32m   1055\u001b[0m             \u001b[0mself\u001b[0m\u001b[1;33m.\u001b[0m\u001b[0mcache\u001b[0m\u001b[1;33m.\u001b[0m\u001b[0mput\u001b[0m\u001b[1;33m(\u001b[0m\u001b[1;33m(\u001b[0m\u001b[0m_qname\u001b[0m\u001b[1;33m,\u001b[0m \u001b[0mrdtype\u001b[0m\u001b[1;33m,\u001b[0m \u001b[0mrdclass\u001b[0m\u001b[1;33m)\u001b[0m\u001b[1;33m,\u001b[0m \u001b[0manswer\u001b[0m\u001b[1;33m)\u001b[0m\u001b[1;33m\u001b[0m\u001b[1;33m\u001b[0m\u001b[0m\n",
      "\u001b[1;32m~\\AppData\\Local\\Continuum\\miniconda3\\envs\\domainconnect_python\\lib\\site-packages\\dns\\resolver.py\u001b[0m in \u001b[0;36m__init__\u001b[1;34m(self, qname, rdtype, rdclass, response, raise_on_no_answer)\u001b[0m\n\u001b[0;32m    232\u001b[0m                     \u001b[1;32mexcept\u001b[0m \u001b[0mKeyError\u001b[0m\u001b[1;33m:\u001b[0m\u001b[1;33m\u001b[0m\u001b[1;33m\u001b[0m\u001b[0m\n\u001b[0;32m    233\u001b[0m                         \u001b[1;32mif\u001b[0m \u001b[0mraise_on_no_answer\u001b[0m\u001b[1;33m:\u001b[0m\u001b[1;33m\u001b[0m\u001b[1;33m\u001b[0m\u001b[0m\n\u001b[1;32m--> 234\u001b[1;33m                             \u001b[1;32mraise\u001b[0m \u001b[0mNoAnswer\u001b[0m\u001b[1;33m(\u001b[0m\u001b[0mresponse\u001b[0m\u001b[1;33m=\u001b[0m\u001b[0mresponse\u001b[0m\u001b[1;33m)\u001b[0m\u001b[1;33m\u001b[0m\u001b[1;33m\u001b[0m\u001b[0m\n\u001b[0m\u001b[0;32m    235\u001b[0m                 \u001b[1;32mif\u001b[0m \u001b[0mraise_on_no_answer\u001b[0m\u001b[1;33m:\u001b[0m\u001b[1;33m\u001b[0m\u001b[1;33m\u001b[0m\u001b[0m\n\u001b[0;32m    236\u001b[0m                     \u001b[1;32mraise\u001b[0m \u001b[0mNoAnswer\u001b[0m\u001b[1;33m(\u001b[0m\u001b[0mresponse\u001b[0m\u001b[1;33m=\u001b[0m\u001b[0mresponse\u001b[0m\u001b[1;33m)\u001b[0m\u001b[1;33m\u001b[0m\u001b[1;33m\u001b[0m\u001b[0m\n",
      "\u001b[1;31mNoAnswer\u001b[0m: The DNS response does not contain an answer to the question: landscapernorwich.co.uk. IN TXT"
     ]
    }
   ],
   "source": [
    "dc._resolver.query(domain_root, 'TXT')"
   ]
  },
  {
   "cell_type": "code",
   "execution_count": 49,
   "metadata": {},
   "outputs": [
    {
     "ename": "NoNameservers",
     "evalue": "All nameservers failed to answer the query _domainconnect.landscapernorwich.co.uk.prod-lon.moonfruit.net. IN TXT: Server 208.67.222.222 UDP port 53 answered SERVFAIL; Server 208.67.220.220 UDP port 53 answered SERVFAIL; Server 8.8.8.8 UDP port 53 answered SERVFAIL; Server 8.8.4.4 UDP port 53 answered SERVFAIL; Server 1.1.1.1 UDP port 53 answered SERVFAIL; Server 1.0.0.1 UDP port 53 answered SERVFAIL",
     "output_type": "error",
     "traceback": [
      "\u001b[1;31m---------------------------------------------------------------------------\u001b[0m",
      "\u001b[1;31mNoNameservers\u001b[0m                             Traceback (most recent call last)",
      "\u001b[1;32m<ipython-input-49-391db519d274>\u001b[0m in \u001b[0;36m<module>\u001b[1;34m\u001b[0m\n\u001b[1;32m----> 1\u001b[1;33m \u001b[0mdc\u001b[0m\u001b[1;33m.\u001b[0m\u001b[0m_resolver\u001b[0m\u001b[1;33m.\u001b[0m\u001b[0mquery\u001b[0m\u001b[1;33m(\u001b[0m\u001b[1;34m'_domainconnect.{}'\u001b[0m\u001b[1;33m.\u001b[0m\u001b[0mformat\u001b[0m\u001b[1;33m(\u001b[0m\u001b[0mdomain_root\u001b[0m\u001b[1;33m)\u001b[0m\u001b[1;33m,\u001b[0m \u001b[1;34m'TXT'\u001b[0m\u001b[1;33m)\u001b[0m\u001b[1;33m\u001b[0m\u001b[1;33m\u001b[0m\u001b[0m\n\u001b[0m",
      "\u001b[1;32m~\\AppData\\Local\\Continuum\\miniconda3\\envs\\domainconnect_python\\lib\\site-packages\\dns\\resolver.py\u001b[0m in \u001b[0;36mquery\u001b[1;34m(self, qname, rdtype, rdclass, tcp, source, raise_on_no_answer, source_port)\u001b[0m\n\u001b[0;32m    945\u001b[0m             \u001b[1;32mwhile\u001b[0m \u001b[0mresponse\u001b[0m \u001b[1;32mis\u001b[0m \u001b[1;32mNone\u001b[0m\u001b[1;33m:\u001b[0m\u001b[1;33m\u001b[0m\u001b[1;33m\u001b[0m\u001b[0m\n\u001b[0;32m    946\u001b[0m                 \u001b[1;32mif\u001b[0m \u001b[0mlen\u001b[0m\u001b[1;33m(\u001b[0m\u001b[0mnameservers\u001b[0m\u001b[1;33m)\u001b[0m \u001b[1;33m==\u001b[0m \u001b[1;36m0\u001b[0m\u001b[1;33m:\u001b[0m\u001b[1;33m\u001b[0m\u001b[1;33m\u001b[0m\u001b[0m\n\u001b[1;32m--> 947\u001b[1;33m                     \u001b[1;32mraise\u001b[0m \u001b[0mNoNameservers\u001b[0m\u001b[1;33m(\u001b[0m\u001b[0mrequest\u001b[0m\u001b[1;33m=\u001b[0m\u001b[0mrequest\u001b[0m\u001b[1;33m,\u001b[0m \u001b[0merrors\u001b[0m\u001b[1;33m=\u001b[0m\u001b[0merrors\u001b[0m\u001b[1;33m)\u001b[0m\u001b[1;33m\u001b[0m\u001b[1;33m\u001b[0m\u001b[0m\n\u001b[0m\u001b[0;32m    948\u001b[0m                 \u001b[1;32mfor\u001b[0m \u001b[0mnameserver\u001b[0m \u001b[1;32min\u001b[0m \u001b[0mnameservers\u001b[0m\u001b[1;33m[\u001b[0m\u001b[1;33m:\u001b[0m\u001b[1;33m]\u001b[0m\u001b[1;33m:\u001b[0m\u001b[1;33m\u001b[0m\u001b[1;33m\u001b[0m\u001b[0m\n\u001b[0;32m    949\u001b[0m                     \u001b[0mtimeout\u001b[0m \u001b[1;33m=\u001b[0m \u001b[0mself\u001b[0m\u001b[1;33m.\u001b[0m\u001b[0m_compute_timeout\u001b[0m\u001b[1;33m(\u001b[0m\u001b[0mstart\u001b[0m\u001b[1;33m)\u001b[0m\u001b[1;33m\u001b[0m\u001b[1;33m\u001b[0m\u001b[0m\n",
      "\u001b[1;31mNoNameservers\u001b[0m: All nameservers failed to answer the query _domainconnect.landscapernorwich.co.uk.prod-lon.moonfruit.net. IN TXT: Server 208.67.222.222 UDP port 53 answered SERVFAIL; Server 208.67.220.220 UDP port 53 answered SERVFAIL; Server 8.8.8.8 UDP port 53 answered SERVFAIL; Server 8.8.4.4 UDP port 53 answered SERVFAIL; Server 1.1.1.1 UDP port 53 answered SERVFAIL; Server 1.0.0.1 UDP port 53 answered SERVFAIL"
     ]
    }
   ],
   "source": [
    "dc._resolver.query('_domainconnect.{}'.format(domain_root), 'TXT')"
   ]
  },
  {
   "cell_type": "code",
   "execution_count": 50,
   "metadata": {},
   "outputs": [
    {
     "data": {
      "text/plain": [
       "['208.67.222.222',\n",
       " '208.67.220.220',\n",
       " '8.8.8.8',\n",
       " '8.8.4.4',\n",
       " '1.1.1.1',\n",
       " '1.0.0.1']"
      ]
     },
     "execution_count": 50,
     "metadata": {},
     "output_type": "execute_result"
    }
   ],
   "source": [
    "dc._resolver.nameservers"
   ]
  },
  {
   "cell_type": "code",
   "execution_count": 51,
   "metadata": {},
   "outputs": [
    {
     "ename": "NoDomainConnectRecordException",
     "evalue": "No nameservers avalaible for \"landscapernorwich.co.uk\"",
     "output_type": "error",
     "traceback": [
      "\u001b[1;31m---------------------------------------------------------------------------\u001b[0m",
      "\u001b[1;31mNoNameservers\u001b[0m                             Traceback (most recent call last)",
      "\u001b[1;32m~\\Onedrive - Hibu\\Documents\\Tech\\domainconnect_python\\domainconnect\\domainconnect.py\u001b[0m in \u001b[0;36m_identify_domain_connect_api\u001b[1;34m(self, domain_root)\u001b[0m\n\u001b[0;32m    199\u001b[0m         \u001b[1;32mtry\u001b[0m\u001b[1;33m:\u001b[0m\u001b[1;33m\u001b[0m\u001b[1;33m\u001b[0m\u001b[0m\n\u001b[1;32m--> 200\u001b[1;33m             \u001b[0mdns\u001b[0m \u001b[1;33m=\u001b[0m \u001b[0mself\u001b[0m\u001b[1;33m.\u001b[0m\u001b[0m_resolver\u001b[0m\u001b[1;33m.\u001b[0m\u001b[0mquery\u001b[0m\u001b[1;33m(\u001b[0m\u001b[1;34m'_domainconnect.{}'\u001b[0m\u001b[1;33m.\u001b[0m\u001b[0mformat\u001b[0m\u001b[1;33m(\u001b[0m\u001b[0mdomain_root\u001b[0m\u001b[1;33m)\u001b[0m\u001b[1;33m,\u001b[0m \u001b[1;34m'TXT'\u001b[0m\u001b[1;33m)\u001b[0m\u001b[1;33m\u001b[0m\u001b[1;33m\u001b[0m\u001b[0m\n\u001b[0m\u001b[0;32m    201\u001b[0m             \u001b[0mdomain_connect_api\u001b[0m \u001b[1;33m=\u001b[0m \u001b[0mstr\u001b[0m\u001b[1;33m(\u001b[0m\u001b[0mdns\u001b[0m\u001b[1;33m[\u001b[0m\u001b[1;36m0\u001b[0m\u001b[1;33m]\u001b[0m\u001b[1;33m)\u001b[0m\u001b[1;33m.\u001b[0m\u001b[0mreplace\u001b[0m\u001b[1;33m(\u001b[0m\u001b[1;34m'\"'\u001b[0m\u001b[1;33m,\u001b[0m \u001b[1;34m''\u001b[0m\u001b[1;33m)\u001b[0m\u001b[1;33m\u001b[0m\u001b[1;33m\u001b[0m\u001b[0m\n",
      "\u001b[1;32m~\\AppData\\Local\\Continuum\\miniconda3\\envs\\domainconnect_python\\lib\\site-packages\\dns\\resolver.py\u001b[0m in \u001b[0;36mquery\u001b[1;34m(self, qname, rdtype, rdclass, tcp, source, raise_on_no_answer, source_port)\u001b[0m\n\u001b[0;32m    946\u001b[0m                 \u001b[1;32mif\u001b[0m \u001b[0mlen\u001b[0m\u001b[1;33m(\u001b[0m\u001b[0mnameservers\u001b[0m\u001b[1;33m)\u001b[0m \u001b[1;33m==\u001b[0m \u001b[1;36m0\u001b[0m\u001b[1;33m:\u001b[0m\u001b[1;33m\u001b[0m\u001b[1;33m\u001b[0m\u001b[0m\n\u001b[1;32m--> 947\u001b[1;33m                     \u001b[1;32mraise\u001b[0m \u001b[0mNoNameservers\u001b[0m\u001b[1;33m(\u001b[0m\u001b[0mrequest\u001b[0m\u001b[1;33m=\u001b[0m\u001b[0mrequest\u001b[0m\u001b[1;33m,\u001b[0m \u001b[0merrors\u001b[0m\u001b[1;33m=\u001b[0m\u001b[0merrors\u001b[0m\u001b[1;33m)\u001b[0m\u001b[1;33m\u001b[0m\u001b[1;33m\u001b[0m\u001b[0m\n\u001b[0m\u001b[0;32m    948\u001b[0m                 \u001b[1;32mfor\u001b[0m \u001b[0mnameserver\u001b[0m \u001b[1;32min\u001b[0m \u001b[0mnameservers\u001b[0m\u001b[1;33m[\u001b[0m\u001b[1;33m:\u001b[0m\u001b[1;33m]\u001b[0m\u001b[1;33m:\u001b[0m\u001b[1;33m\u001b[0m\u001b[1;33m\u001b[0m\u001b[0m\n",
      "\u001b[1;31mNoNameservers\u001b[0m: All nameservers failed to answer the query _domainconnect.landscapernorwich.co.uk.prod-lon.moonfruit.net. IN TXT: Server 208.67.222.222 UDP port 53 answered SERVFAIL; Server 208.67.220.220 UDP port 53 answered SERVFAIL; Server 8.8.8.8 UDP port 53 answered SERVFAIL; Server 8.8.4.4 UDP port 53 answered SERVFAIL; Server 1.1.1.1 UDP port 53 answered SERVFAIL; Server 1.0.0.1 UDP port 53 answered SERVFAIL",
      "\nDuring handling of the above exception, another exception occurred:\n",
      "\u001b[1;31mNoDomainConnectRecordException\u001b[0m            Traceback (most recent call last)",
      "\u001b[1;32m<ipython-input-51-94ae121a435a>\u001b[0m in \u001b[0;36m<module>\u001b[1;34m\u001b[0m\n\u001b[1;32m----> 1\u001b[1;33m \u001b[0mdc\u001b[0m\u001b[1;33m.\u001b[0m\u001b[0m_identify_domain_connect_api\u001b[0m\u001b[1;33m(\u001b[0m\u001b[0mdomain_root\u001b[0m\u001b[1;33m)\u001b[0m\u001b[1;33m\u001b[0m\u001b[1;33m\u001b[0m\u001b[0m\n\u001b[0m",
      "\u001b[1;32m~\\Onedrive - Hibu\\Documents\\Tech\\domainconnect_python\\domainconnect\\domainconnect.py\u001b[0m in \u001b[0;36m_identify_domain_connect_api\u001b[1;34m(self, domain_root)\u001b[0m\n\u001b[0;32m    214\u001b[0m         \u001b[1;32mexcept\u001b[0m \u001b[0mNoNameservers\u001b[0m\u001b[1;33m:\u001b[0m\u001b[1;33m\u001b[0m\u001b[1;33m\u001b[0m\u001b[0m\n\u001b[0;32m    215\u001b[0m             \u001b[0mlogger\u001b[0m\u001b[1;33m.\u001b[0m\u001b[0mdebug\u001b[0m\u001b[1;33m(\u001b[0m\u001b[1;34m'No nameservers avalaible for \"{}\"'\u001b[0m\u001b[1;33m.\u001b[0m\u001b[0mformat\u001b[0m\u001b[1;33m(\u001b[0m\u001b[0mdomain_root\u001b[0m\u001b[1;33m)\u001b[0m\u001b[1;33m)\u001b[0m\u001b[1;33m\u001b[0m\u001b[1;33m\u001b[0m\u001b[0m\n\u001b[1;32m--> 216\u001b[1;33m             \u001b[1;32mraise\u001b[0m \u001b[0mNoDomainConnectRecordException\u001b[0m\u001b[1;33m(\u001b[0m\u001b[1;34m'No nameservers avalaible for \"{}\"'\u001b[0m\u001b[1;33m.\u001b[0m\u001b[0mformat\u001b[0m\u001b[1;33m(\u001b[0m\u001b[0mdomain_root\u001b[0m\u001b[1;33m)\u001b[0m\u001b[1;33m)\u001b[0m\u001b[1;33m\u001b[0m\u001b[1;33m\u001b[0m\u001b[0m\n\u001b[0m\u001b[0;32m    217\u001b[0m         \u001b[1;32mexcept\u001b[0m \u001b[0mException\u001b[0m\u001b[1;33m:\u001b[0m\u001b[1;33m\u001b[0m\u001b[1;33m\u001b[0m\u001b[0m\n\u001b[0;32m    218\u001b[0m             \u001b[1;32mpass\u001b[0m\u001b[1;33m\u001b[0m\u001b[1;33m\u001b[0m\u001b[0m\n",
      "\u001b[1;31mNoDomainConnectRecordException\u001b[0m: No nameservers avalaible for \"landscapernorwich.co.uk\""
     ]
    }
   ],
   "source": [
    "dc._identify_domain_connect_api(domain_root)"
   ]
  },
  {
   "cell_type": "code",
   "execution_count": null,
   "metadata": {},
   "outputs": [],
   "source": []
  },
  {
   "cell_type": "code",
   "execution_count": 24,
   "metadata": {},
   "outputs": [
    {
     "data": {
      "text/plain": [
       "<domainconnect.domainconnect.DomainConnectConfig at 0x27eed3eb668>"
      ]
     },
     "execution_count": 24,
     "metadata": {},
     "output_type": "execute_result"
    }
   ],
   "source": [
    "dc.get_domain_config(DOMAIN)"
   ]
  },
  {
   "cell_type": "code",
   "execution_count": null,
   "metadata": {},
   "outputs": [],
   "source": []
  },
  {
   "cell_type": "code",
   "execution_count": null,
   "metadata": {},
   "outputs": [],
   "source": []
  }
 ],
 "metadata": {
  "kernelspec": {
   "display_name": "Python 3",
   "language": "python",
   "name": "python3"
  },
  "language_info": {
   "codemirror_mode": {
    "name": "ipython",
    "version": 3
   },
   "file_extension": ".py",
   "mimetype": "text/x-python",
   "name": "python",
   "nbconvert_exporter": "python",
   "pygments_lexer": "ipython3",
   "version": "3.7.3"
  }
 },
 "nbformat": 4,
 "nbformat_minor": 2
}
